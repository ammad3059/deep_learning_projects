{
  "nbformat": 4,
  "nbformat_minor": 0,
  "metadata": {
    "colab": {
      "name": "hospital_analysis.ipynb",
      "provenance": [],
      "collapsed_sections": [],
      "authorship_tag": "ABX9TyPrZLGnjy9XL+/5sS4Uzxw5",
      "include_colab_link": true
    },
    "kernelspec": {
      "name": "python3",
      "display_name": "Python 3"
    },
    "language_info": {
      "name": "python"
    }
  },
  "cells": [
    {
      "cell_type": "markdown",
      "metadata": {
        "id": "view-in-github",
        "colab_type": "text"
      },
      "source": [
        "<a href=\"https://colab.research.google.com/github/ammad3059/deep_learning_projects/blob/main/hospital_analysis.ipynb\" target=\"_parent\"><img src=\"https://colab.research.google.com/assets/colab-badge.svg\" alt=\"Open In Colab\"/></a>"
      ]
    },
    {
      "cell_type": "code",
      "metadata": {
        "id": "6mKbGRsIoSSl"
      },
      "source": [
        "import pandas as pd"
      ],
      "execution_count": 1,
      "outputs": []
    },
    {
      "cell_type": "code",
      "metadata": {
        "colab": {
          "resources": {
            "http://localhost:8080/nbextensions/google.colab/files.js": {
              "data": "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",
              "ok": true,
              "headers": [
                [
                  "content-type",
                  "application/javascript"
                ]
              ],
              "status": 200,
              "status_text": ""
            }
          },
          "base_uri": "https://localhost:8080/",
          "height": 72
        },
        "id": "NwBhQVXEcHCQ",
        "outputId": "2c48bd5f-7c0d-4331-f563-25ef34bce4af"
      },
      "source": [
        "from google.colab import files\n",
        "uploaded = files.upload()"
      ],
      "execution_count": 2,
      "outputs": [
        {
          "output_type": "display_data",
          "data": {
            "text/html": [
              "\n",
              "     <input type=\"file\" id=\"files-80d8a5db-0df6-403a-a0d5-8b76f6f1bd16\" name=\"files[]\" multiple disabled\n",
              "        style=\"border:none\" />\n",
              "     <output id=\"result-80d8a5db-0df6-403a-a0d5-8b76f6f1bd16\">\n",
              "      Upload widget is only available when the cell has been executed in the\n",
              "      current browser session. Please rerun this cell to enable.\n",
              "      </output>\n",
              "      <script src=\"/nbextensions/google.colab/files.js\"></script> "
            ],
            "text/plain": [
              "<IPython.core.display.HTML object>"
            ]
          },
          "metadata": {
            "tags": []
          }
        },
        {
          "output_type": "stream",
          "text": [
            "Saving hospital_data.csv to hospital_data.csv\n"
          ],
          "name": "stdout"
        }
      ]
    },
    {
      "cell_type": "code",
      "metadata": {
        "colab": {
          "base_uri": "https://localhost:8080/",
          "height": 306
        },
        "id": "2ai493qtcQqr",
        "outputId": "b21a9609-0e92-4e0d-80f1-ea9efa382643"
      },
      "source": [
        "df = pd.read_csv('hospital_data.csv')\n",
        "df.head()"
      ],
      "execution_count": 3,
      "outputs": [
        {
          "output_type": "execute_result",
          "data": {
            "text/html": [
              "<div>\n",
              "<style scoped>\n",
              "    .dataframe tbody tr th:only-of-type {\n",
              "        vertical-align: middle;\n",
              "    }\n",
              "\n",
              "    .dataframe tbody tr th {\n",
              "        vertical-align: top;\n",
              "    }\n",
              "\n",
              "    .dataframe thead th {\n",
              "        text-align: right;\n",
              "    }\n",
              "</style>\n",
              "<table border=\"1\" class=\"dataframe\">\n",
              "  <thead>\n",
              "    <tr style=\"text-align: right;\">\n",
              "      <th></th>\n",
              "      <th>Date</th>\n",
              "      <th>Medication Revenue</th>\n",
              "      <th>Lab Cost</th>\n",
              "      <th>Consultation Revenue</th>\n",
              "      <th>Doctor Type</th>\n",
              "      <th>Financial Class</th>\n",
              "      <th>Patient Type</th>\n",
              "      <th>Entry Time</th>\n",
              "      <th>Post-Consultation Time</th>\n",
              "      <th>Completion Time</th>\n",
              "      <th>Doctor</th>\n",
              "      <th>Patient ID</th>\n",
              "    </tr>\n",
              "  </thead>\n",
              "  <tbody>\n",
              "    <tr>\n",
              "      <th>0</th>\n",
              "      <td>11/4/2019 0:00</td>\n",
              "      <td>$1,183.22</td>\n",
              "      <td>$10.00</td>\n",
              "      <td>$20.17</td>\n",
              "      <td>ANCHOR</td>\n",
              "      <td>HMO</td>\n",
              "      <td>OUTPATIENT</td>\n",
              "      <td>8:35:45</td>\n",
              "      <td>9:17:54</td>\n",
              "      <td>9:29:46</td>\n",
              "      <td>DR05350C4</td>\n",
              "      <td>C10001</td>\n",
              "    </tr>\n",
              "    <tr>\n",
              "      <th>1</th>\n",
              "      <td>11/6/2019 0:00</td>\n",
              "      <td>$738.48</td>\n",
              "      <td>$-</td>\n",
              "      <td>$15.00</td>\n",
              "      <td>ANCHOR</td>\n",
              "      <td>INSURANCE</td>\n",
              "      <td>OUTPATIENT</td>\n",
              "      <td>19:19:16</td>\n",
              "      <td>21:02:36</td>\n",
              "      <td>21:24:07</td>\n",
              "      <td>DR09451Z4</td>\n",
              "      <td>C10002</td>\n",
              "    </tr>\n",
              "    <tr>\n",
              "      <th>2</th>\n",
              "      <td>11/2/2019 0:00</td>\n",
              "      <td>$660.00</td>\n",
              "      <td>$-</td>\n",
              "      <td>$21.17</td>\n",
              "      <td>ANCHOR</td>\n",
              "      <td>HMO</td>\n",
              "      <td>OUTPATIENT</td>\n",
              "      <td>10:46:52</td>\n",
              "      <td>11:56:25</td>\n",
              "      <td>12:06:28</td>\n",
              "      <td>DR17400I4</td>\n",
              "      <td>C10003</td>\n",
              "    </tr>\n",
              "    <tr>\n",
              "      <th>3</th>\n",
              "      <td>11/6/2019 0:00</td>\n",
              "      <td>$600.00</td>\n",
              "      <td>$-</td>\n",
              "      <td>$-</td>\n",
              "      <td>ANCHOR</td>\n",
              "      <td>MEDICARE</td>\n",
              "      <td>OUTPATIENT</td>\n",
              "      <td>9:38:34</td>\n",
              "      <td>10:55:50</td>\n",
              "      <td>10:58:02</td>\n",
              "      <td>DR09451Z4</td>\n",
              "      <td>C10004</td>\n",
              "    </tr>\n",
              "    <tr>\n",
              "      <th>4</th>\n",
              "      <td>11/1/2019 0:00</td>\n",
              "      <td>$591.60</td>\n",
              "      <td>$-</td>\n",
              "      <td>$12.00</td>\n",
              "      <td>ANCHOR</td>\n",
              "      <td>INSURANCE</td>\n",
              "      <td>OUTPATIENT</td>\n",
              "      <td>11:16:21</td>\n",
              "      <td>12:06:49</td>\n",
              "      <td>12:06:54</td>\n",
              "      <td>DR15154H4</td>\n",
              "      <td>C10005</td>\n",
              "    </tr>\n",
              "  </tbody>\n",
              "</table>\n",
              "</div>"
            ],
            "text/plain": [
              "             Date  Medication Revenue   ...     Doctor Patient ID\n",
              "0  11/4/2019 0:00           $1,183.22   ...  DR05350C4     C10001\n",
              "1  11/6/2019 0:00             $738.48   ...  DR09451Z4     C10002\n",
              "2  11/2/2019 0:00             $660.00   ...  DR17400I4     C10003\n",
              "3  11/6/2019 0:00             $600.00   ...  DR09451Z4     C10004\n",
              "4  11/1/2019 0:00             $591.60   ...  DR15154H4     C10005\n",
              "\n",
              "[5 rows x 12 columns]"
            ]
          },
          "metadata": {
            "tags": []
          },
          "execution_count": 3
        }
      ]
    },
    {
      "cell_type": "code",
      "metadata": {
        "colab": {
          "base_uri": "https://localhost:8080/"
        },
        "id": "ncYiSnd3qf0i",
        "outputId": "9ac91061-57af-48a7-db8c-0888edd1be3f"
      },
      "source": [
        "df.dtypes"
      ],
      "execution_count": 4,
      "outputs": [
        {
          "output_type": "execute_result",
          "data": {
            "text/plain": [
              "Date                      object\n",
              " Medication Revenue       object\n",
              "  Lab Cost                object\n",
              " Consultation Revenue     object\n",
              "Doctor Type               object\n",
              "Financial Class           object\n",
              "Patient Type              object\n",
              "Entry Time                object\n",
              "Post-Consultation Time    object\n",
              "Completion Time           object\n",
              "Doctor                    object\n",
              "Patient ID                object\n",
              "dtype: object"
            ]
          },
          "metadata": {
            "tags": []
          },
          "execution_count": 4
        }
      ]
    },
    {
      "cell_type": "markdown",
      "metadata": {
        "id": "XXGI2bUtdVO1"
      },
      "source": [
        "Correcting the names of columns"
      ]
    },
    {
      "cell_type": "code",
      "metadata": {
        "id": "xLHkd424cuhf"
      },
      "source": [
        "df.columns = df.columns.str.strip()"
      ],
      "execution_count": 5,
      "outputs": []
    },
    {
      "cell_type": "markdown",
      "metadata": {
        "id": "jyUxM5opqAIY"
      },
      "source": [
        "First Clean data to get actual value in each column"
      ]
    },
    {
      "cell_type": "code",
      "metadata": {
        "id": "HwK8vvp6fYW0"
      },
      "source": [
        "def clean_data(x):\n",
        "  x = x.replace('$','')\n",
        "  x = x.replace('-','')\n",
        "  x = x.replace(' ','')\n",
        "  x = x.replace(',','')\n",
        "  return x"
      ],
      "execution_count": 6,
      "outputs": []
    },
    {
      "cell_type": "code",
      "metadata": {
        "id": "I64Cytzvf3Pd"
      },
      "source": [
        "df['Medication Revenue'] = df['Medication Revenue'].apply(clean_data)\n",
        "df['Lab Cost'] = df['Lab Cost'].apply(clean_data)\n",
        "df['Consultation Revenue'] =df['Consultation Revenue'].apply(clean_data)"
      ],
      "execution_count": 7,
      "outputs": []
    },
    {
      "cell_type": "markdown",
      "metadata": {
        "id": "2RC8bGk-c4Cr"
      },
      "source": [
        "Changing data types into their actual data types "
      ]
    },
    {
      "cell_type": "code",
      "metadata": {
        "id": "cICX1tukdoL6"
      },
      "source": [
        "df['Medication Revenue'] = pd.to_numeric(df['Medication Revenue'])\n",
        "df['Lab Cost'] = pd.to_numeric(df['Lab Cost'])\n",
        "df['Consultation Revenue'] = pd.to_numeric(df['Consultation Revenue'])\n",
        "df['Entry Time'] = pd.to_datetime(df['Entry Time'])"
      ],
      "execution_count": 8,
      "outputs": []
    },
    {
      "cell_type": "markdown",
      "metadata": {
        "id": "Lr8obcxoq4ug"
      },
      "source": [
        "Filling N/A values"
      ]
    },
    {
      "cell_type": "code",
      "metadata": {
        "id": "DtHHESMOgLUP"
      },
      "source": [
        "df.fillna(0,inplace=True)"
      ],
      "execution_count": 9,
      "outputs": []
    },
    {
      "cell_type": "markdown",
      "metadata": {
        "id": "XqTkBBFBhJwh"
      },
      "source": [
        "which time has most visitors?"
      ]
    },
    {
      "cell_type": "code",
      "metadata": {
        "colab": {
          "base_uri": "https://localhost:8080/",
          "height": 323
        },
        "id": "4RZu8-zSgzKM",
        "outputId": "c2b1827b-de1a-4624-9c77-0ff25dc0fcc6"
      },
      "source": [
        "df['Entry Hour'] = df['Entry Time'].dt.hour\n",
        "df.head()"
      ],
      "execution_count": 10,
      "outputs": [
        {
          "output_type": "execute_result",
          "data": {
            "text/html": [
              "<div>\n",
              "<style scoped>\n",
              "    .dataframe tbody tr th:only-of-type {\n",
              "        vertical-align: middle;\n",
              "    }\n",
              "\n",
              "    .dataframe tbody tr th {\n",
              "        vertical-align: top;\n",
              "    }\n",
              "\n",
              "    .dataframe thead th {\n",
              "        text-align: right;\n",
              "    }\n",
              "</style>\n",
              "<table border=\"1\" class=\"dataframe\">\n",
              "  <thead>\n",
              "    <tr style=\"text-align: right;\">\n",
              "      <th></th>\n",
              "      <th>Date</th>\n",
              "      <th>Medication Revenue</th>\n",
              "      <th>Lab Cost</th>\n",
              "      <th>Consultation Revenue</th>\n",
              "      <th>Doctor Type</th>\n",
              "      <th>Financial Class</th>\n",
              "      <th>Patient Type</th>\n",
              "      <th>Entry Time</th>\n",
              "      <th>Post-Consultation Time</th>\n",
              "      <th>Completion Time</th>\n",
              "      <th>Doctor</th>\n",
              "      <th>Patient ID</th>\n",
              "      <th>Entry Hour</th>\n",
              "    </tr>\n",
              "  </thead>\n",
              "  <tbody>\n",
              "    <tr>\n",
              "      <th>0</th>\n",
              "      <td>11/4/2019 0:00</td>\n",
              "      <td>1183.22</td>\n",
              "      <td>10.0</td>\n",
              "      <td>20.17</td>\n",
              "      <td>ANCHOR</td>\n",
              "      <td>HMO</td>\n",
              "      <td>OUTPATIENT</td>\n",
              "      <td>2021-04-12 08:35:45</td>\n",
              "      <td>9:17:54</td>\n",
              "      <td>9:29:46</td>\n",
              "      <td>DR05350C4</td>\n",
              "      <td>C10001</td>\n",
              "      <td>8</td>\n",
              "    </tr>\n",
              "    <tr>\n",
              "      <th>1</th>\n",
              "      <td>11/6/2019 0:00</td>\n",
              "      <td>738.48</td>\n",
              "      <td>0.0</td>\n",
              "      <td>15.00</td>\n",
              "      <td>ANCHOR</td>\n",
              "      <td>INSURANCE</td>\n",
              "      <td>OUTPATIENT</td>\n",
              "      <td>2021-04-12 19:19:16</td>\n",
              "      <td>21:02:36</td>\n",
              "      <td>21:24:07</td>\n",
              "      <td>DR09451Z4</td>\n",
              "      <td>C10002</td>\n",
              "      <td>19</td>\n",
              "    </tr>\n",
              "    <tr>\n",
              "      <th>2</th>\n",
              "      <td>11/2/2019 0:00</td>\n",
              "      <td>660.00</td>\n",
              "      <td>0.0</td>\n",
              "      <td>21.17</td>\n",
              "      <td>ANCHOR</td>\n",
              "      <td>HMO</td>\n",
              "      <td>OUTPATIENT</td>\n",
              "      <td>2021-04-12 10:46:52</td>\n",
              "      <td>11:56:25</td>\n",
              "      <td>12:06:28</td>\n",
              "      <td>DR17400I4</td>\n",
              "      <td>C10003</td>\n",
              "      <td>10</td>\n",
              "    </tr>\n",
              "    <tr>\n",
              "      <th>3</th>\n",
              "      <td>11/6/2019 0:00</td>\n",
              "      <td>600.00</td>\n",
              "      <td>0.0</td>\n",
              "      <td>0.00</td>\n",
              "      <td>ANCHOR</td>\n",
              "      <td>MEDICARE</td>\n",
              "      <td>OUTPATIENT</td>\n",
              "      <td>2021-04-12 09:38:34</td>\n",
              "      <td>10:55:50</td>\n",
              "      <td>10:58:02</td>\n",
              "      <td>DR09451Z4</td>\n",
              "      <td>C10004</td>\n",
              "      <td>9</td>\n",
              "    </tr>\n",
              "    <tr>\n",
              "      <th>4</th>\n",
              "      <td>11/1/2019 0:00</td>\n",
              "      <td>591.60</td>\n",
              "      <td>0.0</td>\n",
              "      <td>12.00</td>\n",
              "      <td>ANCHOR</td>\n",
              "      <td>INSURANCE</td>\n",
              "      <td>OUTPATIENT</td>\n",
              "      <td>2021-04-12 11:16:21</td>\n",
              "      <td>12:06:49</td>\n",
              "      <td>12:06:54</td>\n",
              "      <td>DR15154H4</td>\n",
              "      <td>C10005</td>\n",
              "      <td>11</td>\n",
              "    </tr>\n",
              "  </tbody>\n",
              "</table>\n",
              "</div>"
            ],
            "text/plain": [
              "             Date  Medication Revenue  ...  Patient ID  Entry Hour\n",
              "0  11/4/2019 0:00             1183.22  ...      C10001           8\n",
              "1  11/6/2019 0:00              738.48  ...      C10002          19\n",
              "2  11/2/2019 0:00              660.00  ...      C10003          10\n",
              "3  11/6/2019 0:00              600.00  ...      C10004           9\n",
              "4  11/1/2019 0:00              591.60  ...      C10005          11\n",
              "\n",
              "[5 rows x 13 columns]"
            ]
          },
          "metadata": {
            "tags": []
          },
          "execution_count": 10
        }
      ]
    },
    {
      "cell_type": "code",
      "metadata": {
        "colab": {
          "base_uri": "https://localhost:8080/"
        },
        "id": "RcaqoPvGhiHO",
        "outputId": "efd97535-5ce8-41f1-8dc9-98277ef64871"
      },
      "source": [
        "hours = df.groupby('Entry Hour')['Patient ID'].count()\n",
        "hours"
      ],
      "execution_count": 11,
      "outputs": [
        {
          "output_type": "execute_result",
          "data": {
            "text/plain": [
              "Entry Hour\n",
              "7       12\n",
              "8     3489\n",
              "9     4297\n",
              "10    3680\n",
              "11    3306\n",
              "12    1446\n",
              "13     426\n",
              "14    3030\n",
              "15    1847\n",
              "16    1249\n",
              "17     219\n",
              "18    2600\n",
              "19    2269\n",
              "20    1358\n",
              "21     500\n",
              "22     238\n",
              "23      33\n",
              "Name: Patient ID, dtype: int64"
            ]
          },
          "metadata": {
            "tags": []
          },
          "execution_count": 11
        }
      ]
    },
    {
      "cell_type": "code",
      "metadata": {
        "colab": {
          "base_uri": "https://localhost:8080/",
          "height": 279
        },
        "id": "ma9yDA8Qh6yM",
        "outputId": "10100c91-b630-4f8f-f9f5-60b5effc4ce6"
      },
      "source": [
        "import matplotlib.pyplot as plt\n",
        "hour = [h for h,v in df.groupby('Entry Hour')]\n",
        "plt.bar(hour,hours)\n",
        "plt.xlabel(\"Hours\")\n",
        "plt.ylabel(\"Number of Patients\")\n",
        "plt.xticks(hour)\n",
        "plt.grid()\n",
        "plt.show()"
      ],
      "execution_count": 14,
      "outputs": [
        {
          "output_type": "display_data",
          "data": {
            "image/png": "[encoded data removed]",
            "text/plain": [
              "<Figure size 432x288 with 1 Axes>"
            ]
          },
          "metadata": {
            "tags": [],
            "needs_background": "light"
          }
        }
      ]
    },
    {
      "cell_type": "markdown",
      "metadata": {
        "id": "F_6zOvL2uHY2"
      },
      "source": [
        "There are highest number of patients at 9pm"
      ]
    },
    {
      "cell_type": "markdown",
      "metadata": {
        "id": "xZbvgo7xuaAd"
      },
      "source": [
        "Which Day has highest profit?"
      ]
    },
    {
      "cell_type": "code",
      "metadata": {
        "colab": {
          "base_uri": "https://localhost:8080/",
          "height": 563
        },
        "id": "xLEwdOuBk8KM",
        "outputId": "f9b15125-b28c-4a90-e45d-d7201510af82"
      },
      "source": [
        "df['Total Revenue'] = df['Medication Revenue'] + df['Lab Cost'] + df['Consultation Revenue']\n",
        "df.head(10)"
      ],
      "execution_count": 15,
      "outputs": [
        {
          "output_type": "execute_result",
          "data": {
            "text/html": [
              "<div>\n",
              "<style scoped>\n",
              "    .dataframe tbody tr th:only-of-type {\n",
              "        vertical-align: middle;\n",
              "    }\n",
              "\n",
              "    .dataframe tbody tr th {\n",
              "        vertical-align: top;\n",
              "    }\n",
              "\n",
              "    .dataframe thead th {\n",
              "        text-align: right;\n",
              "    }\n",
              "</style>\n",
              "<table border=\"1\" class=\"dataframe\">\n",
              "  <thead>\n",
              "    <tr style=\"text-align: right;\">\n",
              "      <th></th>\n",
              "      <th>Date</th>\n",
              "      <th>Medication Revenue</th>\n",
              "      <th>Lab Cost</th>\n",
              "      <th>Consultation Revenue</th>\n",
              "      <th>Doctor Type</th>\n",
              "      <th>Financial Class</th>\n",
              "      <th>Patient Type</th>\n",
              "      <th>Entry Time</th>\n",
              "      <th>Post-Consultation Time</th>\n",
              "      <th>Completion Time</th>\n",
              "      <th>Doctor</th>\n",
              "      <th>Patient ID</th>\n",
              "      <th>Entry Hour</th>\n",
              "      <th>Total Revenue</th>\n",
              "    </tr>\n",
              "  </thead>\n",
              "  <tbody>\n",
              "    <tr>\n",
              "      <th>0</th>\n",
              "      <td>11/4/2019 0:00</td>\n",
              "      <td>1183.22</td>\n",
              "      <td>10.0</td>\n",
              "      <td>20.17</td>\n",
              "      <td>ANCHOR</td>\n",
              "      <td>HMO</td>\n",
              "      <td>OUTPATIENT</td>\n",
              "      <td>2021-04-12 08:35:45</td>\n",
              "      <td>9:17:54</td>\n",
              "      <td>9:29:46</td>\n",
              "      <td>DR05350C4</td>\n",
              "      <td>C10001</td>\n",
              "      <td>8</td>\n",
              "      <td>1213.39</td>\n",
              "    </tr>\n",
              "    <tr>\n",
              "      <th>1</th>\n",
              "      <td>11/6/2019 0:00</td>\n",
              "      <td>738.48</td>\n",
              "      <td>0.0</td>\n",
              "      <td>15.00</td>\n",
              "      <td>ANCHOR</td>\n",
              "      <td>INSURANCE</td>\n",
              "      <td>OUTPATIENT</td>\n",
              "      <td>2021-04-12 19:19:16</td>\n",
              "      <td>21:02:36</td>\n",
              "      <td>21:24:07</td>\n",
              "      <td>DR09451Z4</td>\n",
              "      <td>C10002</td>\n",
              "      <td>19</td>\n",
              "      <td>753.48</td>\n",
              "    </tr>\n",
              "    <tr>\n",
              "      <th>2</th>\n",
              "      <td>11/2/2019 0:00</td>\n",
              "      <td>660.00</td>\n",
              "      <td>0.0</td>\n",
              "      <td>21.17</td>\n",
              "      <td>ANCHOR</td>\n",
              "      <td>HMO</td>\n",
              "      <td>OUTPATIENT</td>\n",
              "      <td>2021-04-12 10:46:52</td>\n",
              "      <td>11:56:25</td>\n",
              "      <td>12:06:28</td>\n",
              "      <td>DR17400I4</td>\n",
              "      <td>C10003</td>\n",
              "      <td>10</td>\n",
              "      <td>681.17</td>\n",
              "    </tr>\n",
              "    <tr>\n",
              "      <th>3</th>\n",
              "      <td>11/6/2019 0:00</td>\n",
              "      <td>600.00</td>\n",
              "      <td>0.0</td>\n",
              "      <td>0.00</td>\n",
              "      <td>ANCHOR</td>\n",
              "      <td>MEDICARE</td>\n",
              "      <td>OUTPATIENT</td>\n",
              "      <td>2021-04-12 09:38:34</td>\n",
              "      <td>10:55:50</td>\n",
              "      <td>10:58:02</td>\n",
              "      <td>DR09451Z4</td>\n",
              "      <td>C10004</td>\n",
              "      <td>9</td>\n",
              "      <td>600.00</td>\n",
              "    </tr>\n",
              "    <tr>\n",
              "      <th>4</th>\n",
              "      <td>11/1/2019 0:00</td>\n",
              "      <td>591.60</td>\n",
              "      <td>0.0</td>\n",
              "      <td>12.00</td>\n",
              "      <td>ANCHOR</td>\n",
              "      <td>INSURANCE</td>\n",
              "      <td>OUTPATIENT</td>\n",
              "      <td>2021-04-12 11:16:21</td>\n",
              "      <td>12:06:49</td>\n",
              "      <td>12:06:54</td>\n",
              "      <td>DR15154H4</td>\n",
              "      <td>C10005</td>\n",
              "      <td>11</td>\n",
              "      <td>603.60</td>\n",
              "    </tr>\n",
              "    <tr>\n",
              "      <th>5</th>\n",
              "      <td>11/4/2019 0:00</td>\n",
              "      <td>586.80</td>\n",
              "      <td>0.0</td>\n",
              "      <td>13.00</td>\n",
              "      <td>LOCUM</td>\n",
              "      <td>INSURANCE</td>\n",
              "      <td>OUTPATIENT</td>\n",
              "      <td>2021-04-12 19:22:09</td>\n",
              "      <td>20:14:03</td>\n",
              "      <td>20:15:03</td>\n",
              "      <td>DR64040I4</td>\n",
              "      <td>C10006</td>\n",
              "      <td>19</td>\n",
              "      <td>599.80</td>\n",
              "    </tr>\n",
              "    <tr>\n",
              "      <th>6</th>\n",
              "      <td>11/13/2019 0:00</td>\n",
              "      <td>570.18</td>\n",
              "      <td>92.5</td>\n",
              "      <td>15.00</td>\n",
              "      <td>ANCHOR</td>\n",
              "      <td>INSURANCE</td>\n",
              "      <td>OUTPATIENT</td>\n",
              "      <td>2021-04-12 09:14:45</td>\n",
              "      <td>10:51:01</td>\n",
              "      <td>10:51:33</td>\n",
              "      <td>DR15154H4</td>\n",
              "      <td>C10007</td>\n",
              "      <td>9</td>\n",
              "      <td>677.68</td>\n",
              "    </tr>\n",
              "    <tr>\n",
              "      <th>7</th>\n",
              "      <td>11/2/2019 0:00</td>\n",
              "      <td>493.85</td>\n",
              "      <td>0.0</td>\n",
              "      <td>30.00</td>\n",
              "      <td>FLOATING</td>\n",
              "      <td>INSURANCE</td>\n",
              "      <td>OUTPATIENT</td>\n",
              "      <td>2021-04-12 10:35:00</td>\n",
              "      <td>10:57:26</td>\n",
              "      <td>10:57:36</td>\n",
              "      <td>DR60065B4</td>\n",
              "      <td>C10008</td>\n",
              "      <td>10</td>\n",
              "      <td>523.85</td>\n",
              "    </tr>\n",
              "    <tr>\n",
              "      <th>8</th>\n",
              "      <td>11/4/2019 0:00</td>\n",
              "      <td>470.39</td>\n",
              "      <td>0.0</td>\n",
              "      <td>35.52</td>\n",
              "      <td>ANCHOR</td>\n",
              "      <td>HMO</td>\n",
              "      <td>OUTPATIENT</td>\n",
              "      <td>2021-04-12 08:47:59</td>\n",
              "      <td>9:59:22</td>\n",
              "      <td>9:59:29</td>\n",
              "      <td>DR15154H4</td>\n",
              "      <td>C10009</td>\n",
              "      <td>8</td>\n",
              "      <td>505.91</td>\n",
              "    </tr>\n",
              "    <tr>\n",
              "      <th>9</th>\n",
              "      <td>11/2/2019 0:00</td>\n",
              "      <td>468.02</td>\n",
              "      <td>10.0</td>\n",
              "      <td>23.91</td>\n",
              "      <td>LOCUM</td>\n",
              "      <td>HMO</td>\n",
              "      <td>OUTPATIENT</td>\n",
              "      <td>2021-04-12 10:01:25</td>\n",
              "      <td>10:32:38</td>\n",
              "      <td>10:35:17</td>\n",
              "      <td>DR04556Z4</td>\n",
              "      <td>C10010</td>\n",
              "      <td>10</td>\n",
              "      <td>501.93</td>\n",
              "    </tr>\n",
              "  </tbody>\n",
              "</table>\n",
              "</div>"
            ],
            "text/plain": [
              "              Date  Medication Revenue  ...  Entry Hour  Total Revenue\n",
              "0   11/4/2019 0:00             1183.22  ...           8        1213.39\n",
              "1   11/6/2019 0:00              738.48  ...          19         753.48\n",
              "2   11/2/2019 0:00              660.00  ...          10         681.17\n",
              "3   11/6/2019 0:00              600.00  ...           9         600.00\n",
              "4   11/1/2019 0:00              591.60  ...          11         603.60\n",
              "5   11/4/2019 0:00              586.80  ...          19         599.80\n",
              "6  11/13/2019 0:00              570.18  ...           9         677.68\n",
              "7   11/2/2019 0:00              493.85  ...          10         523.85\n",
              "8   11/4/2019 0:00              470.39  ...           8         505.91\n",
              "9   11/2/2019 0:00              468.02  ...          10         501.93\n",
              "\n",
              "[10 rows x 14 columns]"
            ]
          },
          "metadata": {
            "tags": []
          },
          "execution_count": 15
        }
      ]
    },
    {
      "cell_type": "code",
      "metadata": {
        "id": "0L1dlelfl3Hi"
      },
      "source": [
        "def get_days(x):\n",
        "  return x.split('/')[1]"
      ],
      "execution_count": 16,
      "outputs": []
    },
    {
      "cell_type": "code",
      "metadata": {
        "id": "QiYF40jknrtH"
      },
      "source": [
        "df['Days'] = df['Date'].apply(get_days)"
      ],
      "execution_count": 17,
      "outputs": []
    },
    {
      "cell_type": "code",
      "metadata": {
        "colab": {
          "base_uri": "https://localhost:8080/",
          "height": 428
        },
        "id": "zCQXiKTOohIA",
        "outputId": "bd7ff8e2-d4e3-45fd-a739-56bc65ed4d77"
      },
      "source": [
        "df.tail()"
      ],
      "execution_count": 18,
      "outputs": [
        {
          "output_type": "execute_result",
          "data": {
            "text/html": [
              "<div>\n",
              "<style scoped>\n",
              "    .dataframe tbody tr th:only-of-type {\n",
              "        vertical-align: middle;\n",
              "    }\n",
              "\n",
              "    .dataframe tbody tr th {\n",
              "        vertical-align: top;\n",
              "    }\n",
              "\n",
              "    .dataframe thead th {\n",
              "        text-align: right;\n",
              "    }\n",
              "</style>\n",
              "<table border=\"1\" class=\"dataframe\">\n",
              "  <thead>\n",
              "    <tr style=\"text-align: right;\">\n",
              "      <th></th>\n",
              "      <th>Date</th>\n",
              "      <th>Medication Revenue</th>\n",
              "      <th>Lab Cost</th>\n",
              "      <th>Consultation Revenue</th>\n",
              "      <th>Doctor Type</th>\n",
              "      <th>Financial Class</th>\n",
              "      <th>Patient Type</th>\n",
              "      <th>Entry Time</th>\n",
              "      <th>Post-Consultation Time</th>\n",
              "      <th>Completion Time</th>\n",
              "      <th>Doctor</th>\n",
              "      <th>Patient ID</th>\n",
              "      <th>Entry Hour</th>\n",
              "      <th>Total Revenue</th>\n",
              "      <th>Days</th>\n",
              "    </tr>\n",
              "  </thead>\n",
              "  <tbody>\n",
              "    <tr>\n",
              "      <th>29994</th>\n",
              "      <td>11/13/2019 0:00</td>\n",
              "      <td>0.0</td>\n",
              "      <td>0.0</td>\n",
              "      <td>0.0</td>\n",
              "      <td>ANCHOR</td>\n",
              "      <td>PRIVATE</td>\n",
              "      <td>OUTPATIENT</td>\n",
              "      <td>2021-04-12 14:01:24</td>\n",
              "      <td>14:08:56</td>\n",
              "      <td>14:15:42</td>\n",
              "      <td>DR18236B4</td>\n",
              "      <td>C39995</td>\n",
              "      <td>14</td>\n",
              "      <td>0.0</td>\n",
              "      <td>13</td>\n",
              "    </tr>\n",
              "    <tr>\n",
              "      <th>29995</th>\n",
              "      <td>11/13/2019 0:00</td>\n",
              "      <td>0.0</td>\n",
              "      <td>0.0</td>\n",
              "      <td>0.0</td>\n",
              "      <td>ANCHOR</td>\n",
              "      <td>PRIVATE</td>\n",
              "      <td>OUTPATIENT</td>\n",
              "      <td>2021-04-12 14:01:33</td>\n",
              "      <td>14:21:17</td>\n",
              "      <td>14:21:53</td>\n",
              "      <td>DR04824J4</td>\n",
              "      <td>C39996</td>\n",
              "      <td>14</td>\n",
              "      <td>0.0</td>\n",
              "      <td>13</td>\n",
              "    </tr>\n",
              "    <tr>\n",
              "      <th>29996</th>\n",
              "      <td>11/13/2019 0:00</td>\n",
              "      <td>0.0</td>\n",
              "      <td>0.0</td>\n",
              "      <td>0.0</td>\n",
              "      <td>ANCHOR</td>\n",
              "      <td>PRIVATE</td>\n",
              "      <td>OUTPATIENT</td>\n",
              "      <td>2021-04-12 14:01:41</td>\n",
              "      <td>14:13:57</td>\n",
              "      <td>14:16:29</td>\n",
              "      <td>DR15758I4</td>\n",
              "      <td>C39997</td>\n",
              "      <td>14</td>\n",
              "      <td>0.0</td>\n",
              "      <td>13</td>\n",
              "    </tr>\n",
              "    <tr>\n",
              "      <th>29997</th>\n",
              "      <td>11/13/2019 0:00</td>\n",
              "      <td>0.0</td>\n",
              "      <td>0.0</td>\n",
              "      <td>0.0</td>\n",
              "      <td>LOCUM</td>\n",
              "      <td>CORPORATE</td>\n",
              "      <td>OUTPATIENT</td>\n",
              "      <td>2021-04-12 14:01:42</td>\n",
              "      <td>14:13:21</td>\n",
              "      <td>14:13:22</td>\n",
              "      <td>DR63323B4</td>\n",
              "      <td>C39998</td>\n",
              "      <td>14</td>\n",
              "      <td>0.0</td>\n",
              "      <td>13</td>\n",
              "    </tr>\n",
              "    <tr>\n",
              "      <th>29998</th>\n",
              "      <td>11/13/2019 0:00</td>\n",
              "      <td>0.0</td>\n",
              "      <td>0.0</td>\n",
              "      <td>0.0</td>\n",
              "      <td>ANCHOR</td>\n",
              "      <td>PRIVATE</td>\n",
              "      <td>OUTPATIENT</td>\n",
              "      <td>2021-04-12 14:01:55</td>\n",
              "      <td>14:18:40</td>\n",
              "      <td>14:19:02</td>\n",
              "      <td>DR15758I4</td>\n",
              "      <td>C39999</td>\n",
              "      <td>14</td>\n",
              "      <td>0.0</td>\n",
              "      <td>13</td>\n",
              "    </tr>\n",
              "  </tbody>\n",
              "</table>\n",
              "</div>"
            ],
            "text/plain": [
              "                  Date  Medication Revenue  ...  Total Revenue  Days\n",
              "29994  11/13/2019 0:00                 0.0  ...            0.0    13\n",
              "29995  11/13/2019 0:00                 0.0  ...            0.0    13\n",
              "29996  11/13/2019 0:00                 0.0  ...            0.0    13\n",
              "29997  11/13/2019 0:00                 0.0  ...            0.0    13\n",
              "29998  11/13/2019 0:00                 0.0  ...            0.0    13\n",
              "\n",
              "[5 rows x 15 columns]"
            ]
          },
          "metadata": {
            "tags": []
          },
          "execution_count": 18
        }
      ]
    },
    {
      "cell_type": "code",
      "metadata": {
        "colab": {
          "base_uri": "https://localhost:8080/",
          "height": 483
        },
        "id": "8aPON3tJn1Kx",
        "outputId": "7a6275b0-ace3-43ba-863d-b264555a6049"
      },
      "source": [
        "revenue = df.groupby('Days').sum()\n",
        "revenue"
      ],
      "execution_count": 19,
      "outputs": [
        {
          "output_type": "execute_result",
          "data": {
            "text/html": [
              "<div>\n",
              "<style scoped>\n",
              "    .dataframe tbody tr th:only-of-type {\n",
              "        vertical-align: middle;\n",
              "    }\n",
              "\n",
              "    .dataframe tbody tr th {\n",
              "        vertical-align: top;\n",
              "    }\n",
              "\n",
              "    .dataframe thead th {\n",
              "        text-align: right;\n",
              "    }\n",
              "</style>\n",
              "<table border=\"1\" class=\"dataframe\">\n",
              "  <thead>\n",
              "    <tr style=\"text-align: right;\">\n",
              "      <th></th>\n",
              "      <th>Medication Revenue</th>\n",
              "      <th>Lab Cost</th>\n",
              "      <th>Consultation Revenue</th>\n",
              "      <th>Entry Hour</th>\n",
              "      <th>Total Revenue</th>\n",
              "    </tr>\n",
              "    <tr>\n",
              "      <th>Days</th>\n",
              "      <th></th>\n",
              "      <th></th>\n",
              "      <th></th>\n",
              "      <th></th>\n",
              "      <th></th>\n",
              "    </tr>\n",
              "  </thead>\n",
              "  <tbody>\n",
              "    <tr>\n",
              "      <th>1</th>\n",
              "      <td>50137.37</td>\n",
              "      <td>5613.03</td>\n",
              "      <td>35331.60</td>\n",
              "      <td>33102</td>\n",
              "      <td>91082.00</td>\n",
              "    </tr>\n",
              "    <tr>\n",
              "      <th>10</th>\n",
              "      <td>22995.01</td>\n",
              "      <td>1078.12</td>\n",
              "      <td>28700.59</td>\n",
              "      <td>15565</td>\n",
              "      <td>52773.72</td>\n",
              "    </tr>\n",
              "    <tr>\n",
              "      <th>11</th>\n",
              "      <td>79967.11</td>\n",
              "      <td>6310.93</td>\n",
              "      <td>52254.48</td>\n",
              "      <td>48282</td>\n",
              "      <td>138532.52</td>\n",
              "    </tr>\n",
              "    <tr>\n",
              "      <th>12</th>\n",
              "      <td>58490.55</td>\n",
              "      <td>6363.51</td>\n",
              "      <td>39410.16</td>\n",
              "      <td>38664</td>\n",
              "      <td>104264.22</td>\n",
              "    </tr>\n",
              "    <tr>\n",
              "      <th>13</th>\n",
              "      <td>28241.23</td>\n",
              "      <td>4264.98</td>\n",
              "      <td>16796.96</td>\n",
              "      <td>13375</td>\n",
              "      <td>49303.17</td>\n",
              "    </tr>\n",
              "    <tr>\n",
              "      <th>2</th>\n",
              "      <td>30786.56</td>\n",
              "      <td>3809.37</td>\n",
              "      <td>26941.73</td>\n",
              "      <td>17664</td>\n",
              "      <td>61537.66</td>\n",
              "    </tr>\n",
              "    <tr>\n",
              "      <th>3</th>\n",
              "      <td>26517.86</td>\n",
              "      <td>1980.09</td>\n",
              "      <td>30508.05</td>\n",
              "      <td>16385</td>\n",
              "      <td>59006.00</td>\n",
              "    </tr>\n",
              "    <tr>\n",
              "      <th>4</th>\n",
              "      <td>71745.28</td>\n",
              "      <td>7230.95</td>\n",
              "      <td>49139.25</td>\n",
              "      <td>44728</td>\n",
              "      <td>128115.48</td>\n",
              "    </tr>\n",
              "    <tr>\n",
              "      <th>5</th>\n",
              "      <td>59332.38</td>\n",
              "      <td>6503.59</td>\n",
              "      <td>39764.18</td>\n",
              "      <td>37588</td>\n",
              "      <td>105600.15</td>\n",
              "    </tr>\n",
              "    <tr>\n",
              "      <th>6</th>\n",
              "      <td>58881.25</td>\n",
              "      <td>7828.57</td>\n",
              "      <td>40184.59</td>\n",
              "      <td>37683</td>\n",
              "      <td>106894.41</td>\n",
              "    </tr>\n",
              "    <tr>\n",
              "      <th>7</th>\n",
              "      <td>52421.43</td>\n",
              "      <td>6983.95</td>\n",
              "      <td>38074.78</td>\n",
              "      <td>36201</td>\n",
              "      <td>97480.16</td>\n",
              "    </tr>\n",
              "    <tr>\n",
              "      <th>8</th>\n",
              "      <td>48249.82</td>\n",
              "      <td>5373.34</td>\n",
              "      <td>32864.34</td>\n",
              "      <td>32283</td>\n",
              "      <td>86487.50</td>\n",
              "    </tr>\n",
              "    <tr>\n",
              "      <th>9</th>\n",
              "      <td>31294.19</td>\n",
              "      <td>3529.80</td>\n",
              "      <td>28046.02</td>\n",
              "      <td>18603</td>\n",
              "      <td>62870.01</td>\n",
              "    </tr>\n",
              "  </tbody>\n",
              "</table>\n",
              "</div>"
            ],
            "text/plain": [
              "      Medication Revenue  Lab Cost  ...  Entry Hour  Total Revenue\n",
              "Days                                ...                           \n",
              "1               50137.37   5613.03  ...       33102       91082.00\n",
              "10              22995.01   1078.12  ...       15565       52773.72\n",
              "11              79967.11   6310.93  ...       48282      138532.52\n",
              "12              58490.55   6363.51  ...       38664      104264.22\n",
              "13              28241.23   4264.98  ...       13375       49303.17\n",
              "2               30786.56   3809.37  ...       17664       61537.66\n",
              "3               26517.86   1980.09  ...       16385       59006.00\n",
              "4               71745.28   7230.95  ...       44728      128115.48\n",
              "5               59332.38   6503.59  ...       37588      105600.15\n",
              "6               58881.25   7828.57  ...       37683      106894.41\n",
              "7               52421.43   6983.95  ...       36201       97480.16\n",
              "8               48249.82   5373.34  ...       32283       86487.50\n",
              "9               31294.19   3529.80  ...       18603       62870.01\n",
              "\n",
              "[13 rows x 5 columns]"
            ]
          },
          "metadata": {
            "tags": []
          },
          "execution_count": 19
        }
      ]
    },
    {
      "cell_type": "code",
      "metadata": {
        "colab": {
          "base_uri": "https://localhost:8080/",
          "height": 279
        },
        "id": "dp0x5uPJopvF",
        "outputId": "395add55-2403-468c-e760-34e495f63cc8"
      },
      "source": [
        "days = [d for d,r in df.groupby('Days')]\n",
        "plt.bar(days,revenue['Total Revenue'])\n",
        "plt.xlabel(\"Days\")\n",
        "plt.ylabel(\"Total Revenue per Day\")\n",
        "plt.xticks(days)\n",
        "plt.grid()\n",
        "plt.show()"
      ],
      "execution_count": 20,
      "outputs": [
        {
          "output_type": "display_data",
          "data": {
            "image/png": "[encoded data removed]",
            "text/plain": [
              "<Figure size 432x288 with 1 Axes>"
            ]
          },
          "metadata": {
            "tags": [],
            "needs_background": "light"
          }
        }
      ]
    },
    {
      "cell_type": "markdown",
      "metadata": {
        "id": "WyEezWOcujz2"
      },
      "source": [
        "11th and 4th dates of Month has more revenue than other days"
      ]
    },
    {
      "cell_type": "markdown",
      "metadata": {
        "id": "swqTxBzKv0bC"
      },
      "source": [
        "What percentage of Revenue comes from different insurance types?"
      ]
    },
    {
      "cell_type": "code",
      "metadata": {
        "id": "VlU89w0IpLyd",
        "colab": {
          "base_uri": "https://localhost:8080/",
          "height": 1000
        },
        "outputId": "1e446f9a-94f3-4ed0-caa7-9a9ad172cf7f"
      },
      "source": [
        "df.head(15)"
      ],
      "execution_count": 21,
      "outputs": [
        {
          "output_type": "execute_result",
          "data": {
            "text/html": [
              "<div>\n",
              "<style scoped>\n",
              "    .dataframe tbody tr th:only-of-type {\n",
              "        vertical-align: middle;\n",
              "    }\n",
              "\n",
              "    .dataframe tbody tr th {\n",
              "        vertical-align: top;\n",
              "    }\n",
              "\n",
              "    .dataframe thead th {\n",
              "        text-align: right;\n",
              "    }\n",
              "</style>\n",
              "<table border=\"1\" class=\"dataframe\">\n",
              "  <thead>\n",
              "    <tr style=\"text-align: right;\">\n",
              "      <th></th>\n",
              "      <th>Date</th>\n",
              "      <th>Medication Revenue</th>\n",
              "      <th>Lab Cost</th>\n",
              "      <th>Consultation Revenue</th>\n",
              "      <th>Doctor Type</th>\n",
              "      <th>Financial Class</th>\n",
              "      <th>Patient Type</th>\n",
              "      <th>Entry Time</th>\n",
              "      <th>Post-Consultation Time</th>\n",
              "      <th>Completion Time</th>\n",
              "      <th>Doctor</th>\n",
              "      <th>Patient ID</th>\n",
              "      <th>Entry Hour</th>\n",
              "      <th>Total Revenue</th>\n",
              "      <th>Days</th>\n",
              "    </tr>\n",
              "  </thead>\n",
              "  <tbody>\n",
              "    <tr>\n",
              "      <th>0</th>\n",
              "      <td>11/4/2019 0:00</td>\n",
              "      <td>1183.22</td>\n",
              "      <td>10.0</td>\n",
              "      <td>20.17</td>\n",
              "      <td>ANCHOR</td>\n",
              "      <td>HMO</td>\n",
              "      <td>OUTPATIENT</td>\n",
              "      <td>2021-04-12 08:35:45</td>\n",
              "      <td>9:17:54</td>\n",
              "      <td>9:29:46</td>\n",
              "      <td>DR05350C4</td>\n",
              "      <td>C10001</td>\n",
              "      <td>8</td>\n",
              "      <td>1213.39</td>\n",
              "      <td>4</td>\n",
              "    </tr>\n",
              "    <tr>\n",
              "      <th>1</th>\n",
              "      <td>11/6/2019 0:00</td>\n",
              "      <td>738.48</td>\n",
              "      <td>0.0</td>\n",
              "      <td>15.00</td>\n",
              "      <td>ANCHOR</td>\n",
              "      <td>INSURANCE</td>\n",
              "      <td>OUTPATIENT</td>\n",
              "      <td>2021-04-12 19:19:16</td>\n",
              "      <td>21:02:36</td>\n",
              "      <td>21:24:07</td>\n",
              "      <td>DR09451Z4</td>\n",
              "      <td>C10002</td>\n",
              "      <td>19</td>\n",
              "      <td>753.48</td>\n",
              "      <td>6</td>\n",
              "    </tr>\n",
              "    <tr>\n",
              "      <th>2</th>\n",
              "      <td>11/2/2019 0:00</td>\n",
              "      <td>660.00</td>\n",
              "      <td>0.0</td>\n",
              "      <td>21.17</td>\n",
              "      <td>ANCHOR</td>\n",
              "      <td>HMO</td>\n",
              "      <td>OUTPATIENT</td>\n",
              "      <td>2021-04-12 10:46:52</td>\n",
              "      <td>11:56:25</td>\n",
              "      <td>12:06:28</td>\n",
              "      <td>DR17400I4</td>\n",
              "      <td>C10003</td>\n",
              "      <td>10</td>\n",
              "      <td>681.17</td>\n",
              "      <td>2</td>\n",
              "    </tr>\n",
              "    <tr>\n",
              "      <th>3</th>\n",
              "      <td>11/6/2019 0:00</td>\n",
              "      <td>600.00</td>\n",
              "      <td>0.0</td>\n",
              "      <td>0.00</td>\n",
              "      <td>ANCHOR</td>\n",
              "      <td>MEDICARE</td>\n",
              "      <td>OUTPATIENT</td>\n",
              "      <td>2021-04-12 09:38:34</td>\n",
              "      <td>10:55:50</td>\n",
              "      <td>10:58:02</td>\n",
              "      <td>DR09451Z4</td>\n",
              "      <td>C10004</td>\n",
              "      <td>9</td>\n",
              "      <td>600.00</td>\n",
              "      <td>6</td>\n",
              "    </tr>\n",
              "    <tr>\n",
              "      <th>4</th>\n",
              "      <td>11/1/2019 0:00</td>\n",
              "      <td>591.60</td>\n",
              "      <td>0.0</td>\n",
              "      <td>12.00</td>\n",
              "      <td>ANCHOR</td>\n",
              "      <td>INSURANCE</td>\n",
              "      <td>OUTPATIENT</td>\n",
              "      <td>2021-04-12 11:16:21</td>\n",
              "      <td>12:06:49</td>\n",
              "      <td>12:06:54</td>\n",
              "      <td>DR15154H4</td>\n",
              "      <td>C10005</td>\n",
              "      <td>11</td>\n",
              "      <td>603.60</td>\n",
              "      <td>1</td>\n",
              "    </tr>\n",
              "    <tr>\n",
              "      <th>5</th>\n",
              "      <td>11/4/2019 0:00</td>\n",
              "      <td>586.80</td>\n",
              "      <td>0.0</td>\n",
              "      <td>13.00</td>\n",
              "      <td>LOCUM</td>\n",
              "      <td>INSURANCE</td>\n",
              "      <td>OUTPATIENT</td>\n",
              "      <td>2021-04-12 19:22:09</td>\n",
              "      <td>20:14:03</td>\n",
              "      <td>20:15:03</td>\n",
              "      <td>DR64040I4</td>\n",
              "      <td>C10006</td>\n",
              "      <td>19</td>\n",
              "      <td>599.80</td>\n",
              "      <td>4</td>\n",
              "    </tr>\n",
              "    <tr>\n",
              "      <th>6</th>\n",
              "      <td>11/13/2019 0:00</td>\n",
              "      <td>570.18</td>\n",
              "      <td>92.5</td>\n",
              "      <td>15.00</td>\n",
              "      <td>ANCHOR</td>\n",
              "      <td>INSURANCE</td>\n",
              "      <td>OUTPATIENT</td>\n",
              "      <td>2021-04-12 09:14:45</td>\n",
              "      <td>10:51:01</td>\n",
              "      <td>10:51:33</td>\n",
              "      <td>DR15154H4</td>\n",
              "      <td>C10007</td>\n",
              "      <td>9</td>\n",
              "      <td>677.68</td>\n",
              "      <td>13</td>\n",
              "    </tr>\n",
              "    <tr>\n",
              "      <th>7</th>\n",
              "      <td>11/2/2019 0:00</td>\n",
              "      <td>493.85</td>\n",
              "      <td>0.0</td>\n",
              "      <td>30.00</td>\n",
              "      <td>FLOATING</td>\n",
              "      <td>INSURANCE</td>\n",
              "      <td>OUTPATIENT</td>\n",
              "      <td>2021-04-12 10:35:00</td>\n",
              "      <td>10:57:26</td>\n",
              "      <td>10:57:36</td>\n",
              "      <td>DR60065B4</td>\n",
              "      <td>C10008</td>\n",
              "      <td>10</td>\n",
              "      <td>523.85</td>\n",
              "      <td>2</td>\n",
              "    </tr>\n",
              "    <tr>\n",
              "      <th>8</th>\n",
              "      <td>11/4/2019 0:00</td>\n",
              "      <td>470.39</td>\n",
              "      <td>0.0</td>\n",
              "      <td>35.52</td>\n",
              "      <td>ANCHOR</td>\n",
              "      <td>HMO</td>\n",
              "      <td>OUTPATIENT</td>\n",
              "      <td>2021-04-12 08:47:59</td>\n",
              "      <td>9:59:22</td>\n",
              "      <td>9:59:29</td>\n",
              "      <td>DR15154H4</td>\n",
              "      <td>C10009</td>\n",
              "      <td>8</td>\n",
              "      <td>505.91</td>\n",
              "      <td>4</td>\n",
              "    </tr>\n",
              "    <tr>\n",
              "      <th>9</th>\n",
              "      <td>11/2/2019 0:00</td>\n",
              "      <td>468.02</td>\n",
              "      <td>10.0</td>\n",
              "      <td>23.91</td>\n",
              "      <td>LOCUM</td>\n",
              "      <td>HMO</td>\n",
              "      <td>OUTPATIENT</td>\n",
              "      <td>2021-04-12 10:01:25</td>\n",
              "      <td>10:32:38</td>\n",
              "      <td>10:35:17</td>\n",
              "      <td>DR04556Z4</td>\n",
              "      <td>C10010</td>\n",
              "      <td>10</td>\n",
              "      <td>501.93</td>\n",
              "      <td>2</td>\n",
              "    </tr>\n",
              "    <tr>\n",
              "      <th>10</th>\n",
              "      <td>11/10/2019 0:00</td>\n",
              "      <td>466.58</td>\n",
              "      <td>0.0</td>\n",
              "      <td>8.00</td>\n",
              "      <td>ANCHOR</td>\n",
              "      <td>INSURANCE</td>\n",
              "      <td>OUTPATIENT</td>\n",
              "      <td>2021-04-12 15:17:36</td>\n",
              "      <td>15:43:29</td>\n",
              "      <td>15:43:33</td>\n",
              "      <td>DR60454B4</td>\n",
              "      <td>C10011</td>\n",
              "      <td>15</td>\n",
              "      <td>474.58</td>\n",
              "      <td>10</td>\n",
              "    </tr>\n",
              "    <tr>\n",
              "      <th>11</th>\n",
              "      <td>11/12/2019 0:00</td>\n",
              "      <td>465.38</td>\n",
              "      <td>0.0</td>\n",
              "      <td>12.00</td>\n",
              "      <td>ANCHOR</td>\n",
              "      <td>INSURANCE</td>\n",
              "      <td>OUTPATIENT</td>\n",
              "      <td>2021-04-12 14:38:31</td>\n",
              "      <td>15:23:01</td>\n",
              "      <td>15:23:17</td>\n",
              "      <td>DR15154H4</td>\n",
              "      <td>C10012</td>\n",
              "      <td>14</td>\n",
              "      <td>477.38</td>\n",
              "      <td>12</td>\n",
              "    </tr>\n",
              "    <tr>\n",
              "      <th>12</th>\n",
              "      <td>11/11/2019 0:00</td>\n",
              "      <td>459.00</td>\n",
              "      <td>0.0</td>\n",
              "      <td>12.00</td>\n",
              "      <td>ANCHOR</td>\n",
              "      <td>INSURANCE</td>\n",
              "      <td>OUTPATIENT</td>\n",
              "      <td>2021-04-12 19:18:20</td>\n",
              "      <td>19:36:53</td>\n",
              "      <td>19:46:14</td>\n",
              "      <td>DR60917Z4</td>\n",
              "      <td>C10013</td>\n",
              "      <td>19</td>\n",
              "      <td>471.00</td>\n",
              "      <td>11</td>\n",
              "    </tr>\n",
              "    <tr>\n",
              "      <th>13</th>\n",
              "      <td>11/6/2019 0:00</td>\n",
              "      <td>452.70</td>\n",
              "      <td>0.0</td>\n",
              "      <td>0.00</td>\n",
              "      <td>ANCHOR</td>\n",
              "      <td>MEDICARE</td>\n",
              "      <td>OUTPATIENT</td>\n",
              "      <td>2021-04-12 13:46:52</td>\n",
              "      <td>14:37:19</td>\n",
              "      <td>14:51:14</td>\n",
              "      <td>DR18746A4</td>\n",
              "      <td>C10014</td>\n",
              "      <td>13</td>\n",
              "      <td>452.70</td>\n",
              "      <td>6</td>\n",
              "    </tr>\n",
              "    <tr>\n",
              "      <th>14</th>\n",
              "      <td>11/5/2019 0:00</td>\n",
              "      <td>444.00</td>\n",
              "      <td>0.0</td>\n",
              "      <td>0.00</td>\n",
              "      <td>ANCHOR</td>\n",
              "      <td>HMO</td>\n",
              "      <td>OUTPATIENT</td>\n",
              "      <td>2021-04-12 10:41:25</td>\n",
              "      <td>11:25:26</td>\n",
              "      <td>11:26:09</td>\n",
              "      <td>DR10643G4</td>\n",
              "      <td>C10015</td>\n",
              "      <td>10</td>\n",
              "      <td>444.00</td>\n",
              "      <td>5</td>\n",
              "    </tr>\n",
              "  </tbody>\n",
              "</table>\n",
              "</div>"
            ],
            "text/plain": [
              "               Date  Medication Revenue  ...  Total Revenue  Days\n",
              "0    11/4/2019 0:00             1183.22  ...        1213.39     4\n",
              "1    11/6/2019 0:00              738.48  ...         753.48     6\n",
              "2    11/2/2019 0:00              660.00  ...         681.17     2\n",
              "3    11/6/2019 0:00              600.00  ...         600.00     6\n",
              "4    11/1/2019 0:00              591.60  ...         603.60     1\n",
              "5    11/4/2019 0:00              586.80  ...         599.80     4\n",
              "6   11/13/2019 0:00              570.18  ...         677.68    13\n",
              "7    11/2/2019 0:00              493.85  ...         523.85     2\n",
              "8    11/4/2019 0:00              470.39  ...         505.91     4\n",
              "9    11/2/2019 0:00              468.02  ...         501.93     2\n",
              "10  11/10/2019 0:00              466.58  ...         474.58    10\n",
              "11  11/12/2019 0:00              465.38  ...         477.38    12\n",
              "12  11/11/2019 0:00              459.00  ...         471.00    11\n",
              "13   11/6/2019 0:00              452.70  ...         452.70     6\n",
              "14   11/5/2019 0:00              444.00  ...         444.00     5\n",
              "\n",
              "[15 rows x 15 columns]"
            ]
          },
          "metadata": {
            "tags": []
          },
          "execution_count": 21
        }
      ]
    },
    {
      "cell_type": "code",
      "metadata": {
        "colab": {
          "base_uri": "https://localhost:8080/",
          "height": 235
        },
        "id": "eAoCYjfyz4et",
        "outputId": "dd048452-0a0f-404c-e64a-20a75b520254"
      },
      "source": [
        "classes = df.groupby('Financial Class').sum()\n",
        "classes"
      ],
      "execution_count": 27,
      "outputs": [
        {
          "output_type": "execute_result",
          "data": {
            "text/html": [
              "<div>\n",
              "<style scoped>\n",
              "    .dataframe tbody tr th:only-of-type {\n",
              "        vertical-align: middle;\n",
              "    }\n",
              "\n",
              "    .dataframe tbody tr th {\n",
              "        vertical-align: top;\n",
              "    }\n",
              "\n",
              "    .dataframe thead th {\n",
              "        text-align: right;\n",
              "    }\n",
              "</style>\n",
              "<table border=\"1\" class=\"dataframe\">\n",
              "  <thead>\n",
              "    <tr style=\"text-align: right;\">\n",
              "      <th></th>\n",
              "      <th>Medication Revenue</th>\n",
              "      <th>Lab Cost</th>\n",
              "      <th>Consultation Revenue</th>\n",
              "      <th>Entry Hour</th>\n",
              "      <th>Total Revenue</th>\n",
              "    </tr>\n",
              "    <tr>\n",
              "      <th>Financial Class</th>\n",
              "      <th></th>\n",
              "      <th></th>\n",
              "      <th></th>\n",
              "      <th></th>\n",
              "      <th></th>\n",
              "    </tr>\n",
              "  </thead>\n",
              "  <tbody>\n",
              "    <tr>\n",
              "      <th>CORPORATE</th>\n",
              "      <td>160923.52</td>\n",
              "      <td>21020.31</td>\n",
              "      <td>73716.25</td>\n",
              "      <td>86092</td>\n",
              "      <td>255660.08</td>\n",
              "    </tr>\n",
              "    <tr>\n",
              "      <th>HMO</th>\n",
              "      <td>130586.81</td>\n",
              "      <td>12281.99</td>\n",
              "      <td>73056.27</td>\n",
              "      <td>47761</td>\n",
              "      <td>215925.07</td>\n",
              "    </tr>\n",
              "    <tr>\n",
              "      <th>INSURANCE</th>\n",
              "      <td>307160.57</td>\n",
              "      <td>9509.46</td>\n",
              "      <td>144869.66</td>\n",
              "      <td>130986</td>\n",
              "      <td>461539.69</td>\n",
              "    </tr>\n",
              "    <tr>\n",
              "      <th>MEDICARE</th>\n",
              "      <td>20389.14</td>\n",
              "      <td>1813.54</td>\n",
              "      <td>2336.60</td>\n",
              "      <td>3521</td>\n",
              "      <td>24539.28</td>\n",
              "    </tr>\n",
              "    <tr>\n",
              "      <th>PRIVATE</th>\n",
              "      <td>0.00</td>\n",
              "      <td>22244.93</td>\n",
              "      <td>164037.95</td>\n",
              "      <td>121763</td>\n",
              "      <td>186282.88</td>\n",
              "    </tr>\n",
              "  </tbody>\n",
              "</table>\n",
              "</div>"
            ],
            "text/plain": [
              "                 Medication Revenue  Lab Cost  ...  Entry Hour  Total Revenue\n",
              "Financial Class                                ...                           \n",
              "CORPORATE                 160923.52  21020.31  ...       86092      255660.08\n",
              "HMO                       130586.81  12281.99  ...       47761      215925.07\n",
              "INSURANCE                 307160.57   9509.46  ...      130986      461539.69\n",
              "MEDICARE                   20389.14   1813.54  ...        3521       24539.28\n",
              "PRIVATE                        0.00  22244.93  ...      121763      186282.88\n",
              "\n",
              "[5 rows x 5 columns]"
            ]
          },
          "metadata": {
            "tags": []
          },
          "execution_count": 27
        }
      ]
    },
    {
      "cell_type": "code",
      "metadata": {
        "colab": {
          "base_uri": "https://localhost:8080/",
          "height": 248
        },
        "id": "q34cx9zD0Nwv",
        "outputId": "0eaa1bd3-45f5-4c5f-f574-43d930921ec0"
      },
      "source": [
        "plt.pie(classes['Total Revenue'],labels=classes.index,autopct='%1.2f%%')\n",
        "plt.show()"
      ],
      "execution_count": 29,
      "outputs": [
        {
          "output_type": "display_data",
          "data": {
            "image/png": "[encoded data removed]",
            "text/plain": [
              "<Figure size 432x288 with 1 Axes>"
            ]
          },
          "metadata": {
            "tags": []
          }
        }
      ]
    },
    {
      "cell_type": "code",
      "metadata": {
        "id": "WKsPesrr0g24"
      },
      "source": [
        ""
      ],
      "execution_count": null,
      "outputs": []
    }
  ]
}