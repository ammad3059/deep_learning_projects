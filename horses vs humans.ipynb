{
 "cells": [
  {
   "cell_type": "code",
   "execution_count": 1,
   "metadata": {},
   "outputs": [],
   "source": [
    "import os\n",
    "from tensorflow.keras import models,layers\n",
    "from tensorflow.keras.preprocessing.image import ImageDataGenerator\n",
    "import tensorflow as tf"
   ]
  },
  {
   "cell_type": "code",
   "execution_count": 2,
   "metadata": {},
   "outputs": [],
   "source": [
    "baseDir=r'C:\\works\\AI\\archive\\horse-or-human\\horse-or-human'\n",
    "trainDir=os.path.join(baseDir,'train')\n",
    "valDir=os.path.join(baseDir,'validation')"
   ]
  },
  {
   "cell_type": "code",
   "execution_count": 3,
   "metadata": {},
   "outputs": [],
   "source": [
    "trainHorseDir=os.path.join(trainDir,'horses')\n",
    "trainHumanDir=os.path.join(trainDir,'humans')\n",
    "\n",
    "valHorseDir=os.path.join(valDir,'horses')\n",
    "valHumanDir=os.path.join(valDir,'humans')"
   ]
  },
  {
   "cell_type": "code",
   "execution_count": 4,
   "metadata": {},
   "outputs": [],
   "source": [
    "trainDataGen=ImageDataGenerator(rescale=1./255)\n",
    "testDataGen=ImageDataGenerator(rescale=1./255)"
   ]
  },
  {
   "cell_type": "code",
   "execution_count": 10,
   "metadata": {},
   "outputs": [
    {
     "name": "stdout",
     "output_type": "stream",
     "text": [
      "Found 1027 images belonging to 2 classes.\n"
     ]
    }
   ],
   "source": [
    "training=trainDataGen.flow_from_directory(trainDir,target_size=(300,300),\n",
    "                                          class_mode='binary',batch_size=128)"
   ]
  },
  {
   "cell_type": "code",
   "execution_count": 11,
   "metadata": {},
   "outputs": [
    {
     "name": "stdout",
     "output_type": "stream",
     "text": [
      "Found 256 images belonging to 2 classes.\n"
     ]
    }
   ],
   "source": [
    "testing=testDataGen.flow_from_directory(valDir,target_size=(300,300),\n",
    "                                        class_mode='binary',batch_size=128)"
   ]
  },
  {
   "cell_type": "code",
   "execution_count": 12,
   "metadata": {},
   "outputs": [],
   "source": [
    "model=models.Sequential()\n",
    "model.add(layers.Conv2D(32,(3,3),activation='relu',input_shape=(300,300,3)))\n",
    "model.add(layers.MaxPooling2D((2,2)))\n",
    "model.add(layers.Conv2D(64,(3,3),activation='relu'))\n",
    "model.add(layers.MaxPooling2D((2,2)))\n",
    "model.add(layers.Conv2D(128,(3,3),activation='relu'))\n",
    "model.add(layers.MaxPooling2D((2,2)))\n",
    "model.add(layers.Flatten())\n",
    "model.add(layers.Dense(512,activation='relu'))\n",
    "model.add(layers.Dense(1,activation='sigmoid'))"
   ]
  },
  {
   "cell_type": "code",
   "execution_count": 13,
   "metadata": {},
   "outputs": [],
   "source": [
    "model.compile(optimizer=tf.keras.optimizers.RMSprop(lr=0.001),\n",
    "              loss='binary_crossentropy',metrics=['accuracy'])"
   ]
  },
  {
   "cell_type": "code",
   "execution_count": 14,
   "metadata": {},
   "outputs": [
    {
     "name": "stdout",
     "output_type": "stream",
     "text": [
      "Epoch 1/10\n",
      "8/8 [==============================] - 125s 16s/step - loss: 6.6928 - accuracy: 0.4761 - val_loss: 0.7043 - val_accuracy: 0.5000\n",
      "Epoch 2/10\n",
      "8/8 [==============================] - 122s 15s/step - loss: 1.1858 - accuracy: 0.6741 - val_loss: 0.4164 - val_accuracy: 0.8281\n",
      "Epoch 3/10\n",
      "8/8 [==============================] - 133s 17s/step - loss: 0.5446 - accuracy: 0.8176 - val_loss: 0.6268 - val_accuracy: 0.8281\n",
      "Epoch 4/10\n",
      "8/8 [==============================] - 130s 16s/step - loss: 0.2012 - accuracy: 0.9238 - val_loss: 1.4892 - val_accuracy: 0.7773\n",
      "Epoch 5/10\n",
      "8/8 [==============================] - 111s 14s/step - loss: 0.3789 - accuracy: 0.8565 - val_loss: 1.5950 - val_accuracy: 0.7812\n",
      "Epoch 6/10\n",
      "8/8 [==============================] - 111s 14s/step - loss: 0.1369 - accuracy: 0.9433 - val_loss: 0.8181 - val_accuracy: 0.8867\n",
      "Epoch 7/10\n",
      "8/8 [==============================] - 107s 13s/step - loss: 0.5938 - accuracy: 0.8432 - val_loss: 1.6928 - val_accuracy: 0.7617\n",
      "Epoch 8/10\n",
      "8/8 [==============================] - 129s 16s/step - loss: 0.1895 - accuracy: 0.9316 - val_loss: 4.7646 - val_accuracy: 0.6836\n",
      "Epoch 9/10\n",
      "8/8 [==============================] - 110s 14s/step - loss: 0.0780 - accuracy: 0.9722 - val_loss: 2.2189 - val_accuracy: 0.8047\n",
      "Epoch 10/10\n",
      "8/8 [==============================] - 109s 14s/step - loss: 0.0794 - accuracy: 0.9833 - val_loss: 1.7071 - val_accuracy: 0.8281\n"
     ]
    }
   ],
   "source": [
    "history=model.fit(training,validation_data=testing,steps_per_epoch=8,epochs=10,\n",
    "                           verbose=1)"
   ]
  },
  {
   "cell_type": "code",
   "execution_count": null,
   "metadata": {},
   "outputs": [],
   "source": []
  }
 ],
 "metadata": {
  "kernelspec": {
   "display_name": "Python 3",
   "language": "python",
   "name": "python3"
  },
  "language_info": {
   "codemirror_mode": {
    "name": "ipython",
    "version": 3
   },
   "file_extension": ".py",
   "mimetype": "text/x-python",
   "name": "python",
   "nbconvert_exporter": "python",
   "pygments_lexer": "ipython3",
   "version": "3.8.3"
  }
 },
 "nbformat": 4,
 "nbformat_minor": 4
}
