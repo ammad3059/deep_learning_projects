{
 "cells": [
  {
   "cell_type": "code",
   "execution_count": 1,
   "metadata": {},
   "outputs": [],
   "source": [
    "import numpy as np\n",
    "import tensorflow as tf\n",
    "from tensorflow.keras.preprocessing.image import ImageDataGenerator\n",
    "from tensorflow.keras import models,layers\n",
    "import os\n",
    "from tensorflow.keras.optimizers import RMSprop\n",
    "from PIL import ImageFile\n",
    "ImageFile.LOAD_TRUNCATED_IMAGES = True"
   ]
  },
  {
   "cell_type": "code",
   "execution_count": 2,
   "metadata": {},
   "outputs": [],
   "source": [
    "base_dir=r'C:\\works\\AI\\glass vs tables'\n",
    "train_dir=os.path.join(base_dir,'training')\n",
    "test_dir=os.path.join(base_dir,'testing')"
   ]
  },
  {
   "cell_type": "code",
   "execution_count": 3,
   "metadata": {},
   "outputs": [],
   "source": [
    "train_glass_dir=os.path.join(train_dir,'glass')\n",
    "train_table_dir=os.path.join(train_dir,'table')\n",
    "\n",
    "test_glass_dir=os.path.join(test_dir,'glass')\n",
    "test_table_dir=os.path.join(test_dir,'table')"
   ]
  },
  {
   "cell_type": "code",
   "execution_count": 4,
   "metadata": {},
   "outputs": [],
   "source": [
    "trainDataGen=ImageDataGenerator(rescale=1./255,rotation_range=0.3,width_shift_range=0.2,\n",
    "                               height_shift_range=0.2,shear_range=0.3,zoom_range=0.4,\n",
    "                               horizontal_flip=True,vertical_flip=True,fill_mode='nearest')"
   ]
  },
  {
   "cell_type": "code",
   "execution_count": 5,
   "metadata": {},
   "outputs": [],
   "source": [
    "testDataGen=ImageDataGenerator(rescale=1./255,rotation_range=0.3,width_shift_range=0.2,\n",
    "                               height_shift_range=0.2,shear_range=0.3,zoom_range=0.4,\n",
    "                               horizontal_flip=True,vertical_flip=True,fill_mode='nearest')"
   ]
  },
  {
   "cell_type": "code",
   "execution_count": 6,
   "metadata": {},
   "outputs": [
    {
     "name": "stdout",
     "output_type": "stream",
     "text": [
      "Found 6400 images belonging to 2 classes.\n"
     ]
    }
   ],
   "source": [
    "training=trainDataGen.flow_from_directory(train_dir,target_size=(300,300),\n",
    "                                         class_mode='binary',batch_size=20)"
   ]
  },
  {
   "cell_type": "code",
   "execution_count": 7,
   "metadata": {},
   "outputs": [
    {
     "name": "stdout",
     "output_type": "stream",
     "text": [
      "Found 1243 images belonging to 2 classes.\n"
     ]
    }
   ],
   "source": [
    "testing=testDataGen.flow_from_directory(test_dir,target_size=(300,300),\n",
    "                                         class_mode='binary',batch_size=20)"
   ]
  },
  {
   "cell_type": "code",
   "execution_count": 8,
   "metadata": {},
   "outputs": [],
   "source": [
    "model=models.Sequential()\n",
    "model.add(layers.Conv2D(16,(3,3),activation='relu',input_shape=(300,300,3)))\n",
    "model.add(layers.MaxPooling2D((2,2)))\n",
    "model.add(layers.Conv2D(32,(3,3),activation='relu'))\n",
    "model.add(layers.MaxPooling2D((2,2)))\n",
    "model.add(layers.Conv2D(64,(3,3),activation='relu'))\n",
    "model.add(layers.MaxPooling2D((2,2)))\n",
    "model.add(layers.Conv2D(128,(3,3),activation='relu'))\n",
    "model.add(layers.MaxPooling2D((2,2)))\n",
    "model.add(layers.Flatten())\n",
    "model.add(layers.Dense(512,activation='relu'))\n",
    "model.add(layers.Dense(1,activation='sigmoid'))"
   ]
  },
  {
   "cell_type": "code",
   "execution_count": 11,
   "metadata": {},
   "outputs": [],
   "source": [
    "model.compile(optimizer=RMSprop(lr=0.002),loss='binary_crossentropy',metrics=['accuracy'])"
   ]
  },
  {
   "cell_type": "code",
   "execution_count": 12,
   "metadata": {},
   "outputs": [
    {
     "name": "stdout",
     "output_type": "stream",
     "text": [
      "Epoch 1/10\n",
      "10/10 [==============================] - 88s 9s/step - loss: 2.0942 - accuracy: 0.5550 - val_loss: 0.5927 - val_accuracy: 0.7401\n",
      "Epoch 2/10\n",
      "10/10 [==============================] - 84s 8s/step - loss: 0.6971 - accuracy: 0.5950 - val_loss: 0.5479 - val_accuracy: 0.7611\n",
      "Epoch 3/10\n",
      " 6/10 [=================>............] - ETA: 7s - loss: 0.6038 - accuracy: 0.6583"
     ]
    },
    {
     "name": "stderr",
     "output_type": "stream",
     "text": [
      "C:\\anaconda\\lib\\site-packages\\PIL\\TiffImagePlugin.py:785: UserWarning: Corrupt EXIF data.  Expecting to read 4 bytes but only got 0. \n",
      "  warnings.warn(str(msg))\n"
     ]
    },
    {
     "name": "stdout",
     "output_type": "stream",
     "text": [
      "10/10 [==============================] - 93s 9s/step - loss: 0.5775 - accuracy: 0.7150 - val_loss: 0.7370 - val_accuracy: 0.5696\n",
      "Epoch 4/10\n",
      " 7/10 [====================>.........] - ETA: 4s - loss: 0.4963 - accuracy: 0.7714"
     ]
    },
    {
     "name": "stderr",
     "output_type": "stream",
     "text": [
      "C:\\anaconda\\lib\\site-packages\\PIL\\Image.py:960: UserWarning: Palette images with Transparency expressed in bytes should be converted to RGBA images\n",
      "  warnings.warn(\n"
     ]
    },
    {
     "name": "stdout",
     "output_type": "stream",
     "text": [
      "10/10 [==============================] - 95s 10s/step - loss: 0.5116 - accuracy: 0.7650 - val_loss: 0.6602 - val_accuracy: 0.6138\n",
      "Epoch 5/10\n",
      "10/10 [==============================] - 89s 9s/step - loss: 0.6695 - accuracy: 0.7500 - val_loss: 0.5095 - val_accuracy: 0.7418\n",
      "Epoch 6/10\n",
      "10/10 [==============================] - 88s 9s/step - loss: 0.5231 - accuracy: 0.7000 - val_loss: 0.8402 - val_accuracy: 0.5575\n",
      "Epoch 7/10\n",
      "10/10 [==============================] - 92s 9s/step - loss: 0.5508 - accuracy: 0.7500 - val_loss: 0.8780 - val_accuracy: 0.6034\n",
      "Epoch 8/10\n",
      "10/10 [==============================] - 91s 9s/step - loss: 0.6927 - accuracy: 0.6800 - val_loss: 1.4613 - val_accuracy: 0.5487\n",
      "Epoch 9/10\n",
      "10/10 [==============================] - 90s 9s/step - loss: 0.5645 - accuracy: 0.7100 - val_loss: 0.4727 - val_accuracy: 0.7755\n",
      "Epoch 10/10\n",
      "10/10 [==============================] - 77s 8s/step - loss: 0.5742 - accuracy: 0.7550 - val_loss: 0.4810 - val_accuracy: 0.7860\n"
     ]
    }
   ],
   "source": [
    "his=model.fit_generator(training,steps_per_epoch=10,epochs=10,validation_data=testing)"
   ]
  },
  {
   "cell_type": "code",
   "execution_count": null,
   "metadata": {},
   "outputs": [],
   "source": []
  }
 ],
 "metadata": {
  "kernelspec": {
   "display_name": "Python 3",
   "language": "python",
   "name": "python3"
  },
  "language_info": {
   "codemirror_mode": {
    "name": "ipython",
    "version": 3
   },
   "file_extension": ".py",
   "mimetype": "text/x-python",
   "name": "python",
   "nbconvert_exporter": "python",
   "pygments_lexer": "ipython3",
   "version": "3.8.3"
  }
 },
 "nbformat": 4,
 "nbformat_minor": 4
}
