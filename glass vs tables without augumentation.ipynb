{
 "cells": [
  {
   "cell_type": "code",
   "execution_count": 1,
   "metadata": {},
   "outputs": [],
   "source": [
    "import tensorflow as tf\n",
    "from tensorflow.keras import models,layers\n",
    "from tensorflow.keras.preprocessing.image import ImageDataGenerator\n",
    "import os\n",
    "import numpy as np\n",
    "from tensorflow.keras.optimizers import RMSprop"
   ]
  },
  {
   "cell_type": "code",
   "execution_count": 2,
   "metadata": {},
   "outputs": [],
   "source": [
    "from PIL import ImageFile\n",
    "ImageFile.LOAD_TRUNCATED_IMAGES = True"
   ]
  },
  {
   "cell_type": "code",
   "execution_count": 3,
   "metadata": {},
   "outputs": [],
   "source": [
    "base_dir=r'C:\\works\\AI\\glass vs tables'\n",
    "training_dir=os.path.join(base_dir,'training')\n",
    "validation_dir=os.path.join(base_dir,'testing')"
   ]
  },
  {
   "cell_type": "code",
   "execution_count": 4,
   "metadata": {},
   "outputs": [],
   "source": [
    "training_glass_dir=os.path.join(training_dir,'glass')\n",
    "training_table_dir=os.path.join(training_dir,'table')\n",
    "validation_glass_dir=os.path.join(validation_dir,'glass')\n",
    "validation_table_dir=os.path.join(validation_dir,'table')"
   ]
  },
  {
   "cell_type": "code",
   "execution_count": 5,
   "metadata": {},
   "outputs": [],
   "source": [
    "trainDataGen=ImageDataGenerator(rescale=1./255)\n",
    "valDataGen=ImageDataGenerator(rescale=1./255)"
   ]
  },
  {
   "cell_type": "code",
   "execution_count": 11,
   "metadata": {},
   "outputs": [
    {
     "name": "stdout",
     "output_type": "stream",
     "text": [
      "Found 6400 images belonging to 2 classes.\n"
     ]
    }
   ],
   "source": [
    "training=trainDataGen.flow_from_directory(training_dir,target_size=(224,224),\n",
    "                                         class_mode='binary',batch_size=20,\n",
    "                                         color_mode='rgb')"
   ]
  },
  {
   "cell_type": "code",
   "execution_count": 12,
   "metadata": {},
   "outputs": [
    {
     "name": "stdout",
     "output_type": "stream",
     "text": [
      "Found 1243 images belonging to 2 classes.\n"
     ]
    }
   ],
   "source": [
    "validation=trainDataGen.flow_from_directory(validation_dir,target_size=(224,224),\n",
    "                                         class_mode='binary',batch_size=20,\n",
    "                                           color_mode='rgb')"
   ]
  },
  {
   "cell_type": "code",
   "execution_count": 13,
   "metadata": {},
   "outputs": [],
   "source": [
    "model=models.Sequential()\n",
    "model.add(layers.Conv2D(32,(3,3),activation='relu',input_shape=(224,224,3)))\n",
    "model.add(layers.MaxPooling2D((2,2)))\n",
    "model.add(layers.Conv2D(64,(3,3),activation='relu'))\n",
    "model.add(layers.MaxPooling2D((2,2)))\n",
    "model.add(layers.Conv2D(130,(3,3),activation='relu'))\n",
    "model.add(layers.MaxPooling2D((2,2)))\n",
    "model.add(layers.Flatten())\n",
    "model.add(layers.Dense(512,activation='relu'))\n",
    "model.add(layers.Dense(1,activation='sigmoid'))"
   ]
  },
  {
   "cell_type": "code",
   "execution_count": 14,
   "metadata": {},
   "outputs": [],
   "source": [
    "model.compile(optimizer=RMSprop(lr=0.001),loss='binary_crossentropy',metrics=['accuracy'])"
   ]
  },
  {
   "cell_type": "code",
   "execution_count": 15,
   "metadata": {},
   "outputs": [
    {
     "name": "stdout",
     "output_type": "stream",
     "text": [
      "Epoch 1/10\n",
      "15/15 [==============================] - 61s 4s/step - loss: 6.9720 - accuracy: 0.5367 - val_loss: 0.6716 - val_accuracy: 0.5905\n",
      "Epoch 2/10\n",
      "15/15 [==============================] - 72s 5s/step - loss: 0.7734 - accuracy: 0.5733 - val_loss: 0.6278 - val_accuracy: 0.6862\n",
      "Epoch 3/10\n",
      "15/15 [==============================] - 66s 4s/step - loss: 0.7670 - accuracy: 0.5967 - val_loss: 0.6117 - val_accuracy: 0.5768\n",
      "Epoch 4/10\n",
      "15/15 [==============================] - 67s 4s/step - loss: 0.7417 - accuracy: 0.6233 - val_loss: 0.4847 - val_accuracy: 0.8150\n",
      "Epoch 5/10\n",
      "15/15 [==============================] - 65s 4s/step - loss: 0.6816 - accuracy: 0.7233 - val_loss: 0.5078 - val_accuracy: 0.7224\n",
      "Epoch 6/10\n",
      "15/15 [==============================] - 67s 4s/step - loss: 0.6322 - accuracy: 0.6933 - val_loss: 0.5261 - val_accuracy: 0.7940\n",
      "Epoch 7/10\n",
      "15/15 [==============================] - 69s 5s/step - loss: 0.7003 - accuracy: 0.7400 - val_loss: 0.3922 - val_accuracy: 0.8528\n",
      "Epoch 8/10\n",
      "15/15 [==============================] - 69s 5s/step - loss: 0.4834 - accuracy: 0.7900 - val_loss: 0.3866 - val_accuracy: 0.8520\n",
      "Epoch 9/10\n",
      "15/15 [==============================] - 62s 4s/step - loss: 0.4711 - accuracy: 0.8100 - val_loss: 0.5244 - val_accuracy: 0.7490\n",
      "Epoch 10/10\n",
      "15/15 [==============================] - 64s 4s/step - loss: 0.4052 - accuracy: 0.7900 - val_loss: 0.4033 - val_accuracy: 0.8520\n"
     ]
    }
   ],
   "source": [
    "h=model.fit(training,batch_size=10,epochs=10,validation_data=validation,steps_per_epoch=15)"
   ]
  },
  {
   "cell_type": "code",
   "execution_count": 16,
   "metadata": {},
   "outputs": [
    {
     "name": "stdout",
     "output_type": "stream",
     "text": [
      "Model: \"sequential_1\"\n",
      "_________________________________________________________________\n",
      "Layer (type)                 Output Shape              Param #   \n",
      "=================================================================\n",
      "conv2d_3 (Conv2D)            (None, 222, 222, 32)      896       \n",
      "_________________________________________________________________\n",
      "max_pooling2d_3 (MaxPooling2 (None, 111, 111, 32)      0         \n",
      "_________________________________________________________________\n",
      "conv2d_4 (Conv2D)            (None, 109, 109, 64)      18496     \n",
      "_________________________________________________________________\n",
      "max_pooling2d_4 (MaxPooling2 (None, 54, 54, 64)        0         \n",
      "_________________________________________________________________\n",
      "conv2d_5 (Conv2D)            (None, 52, 52, 130)       75010     \n",
      "_________________________________________________________________\n",
      "max_pooling2d_5 (MaxPooling2 (None, 26, 26, 130)       0         \n",
      "_________________________________________________________________\n",
      "flatten_1 (Flatten)          (None, 87880)             0         \n",
      "_________________________________________________________________\n",
      "dense_2 (Dense)              (None, 512)               44995072  \n",
      "_________________________________________________________________\n",
      "dense_3 (Dense)              (None, 1)                 513       \n",
      "=================================================================\n",
      "Total params: 45,089,987\n",
      "Trainable params: 45,089,987\n",
      "Non-trainable params: 0\n",
      "_________________________________________________________________\n"
     ]
    }
   ],
   "source": [
    "model.summary()"
   ]
  }
 ],
 "metadata": {
  "kernelspec": {
   "display_name": "Python 3",
   "language": "python",
   "name": "python3"
  },
  "language_info": {
   "codemirror_mode": {
    "name": "ipython",
    "version": 3
   },
   "file_extension": ".py",
   "mimetype": "text/x-python",
   "name": "python",
   "nbconvert_exporter": "python",
   "pygments_lexer": "ipython3",
   "version": "3.8.3"
  }
 },
 "nbformat": 4,
 "nbformat_minor": 4
}
