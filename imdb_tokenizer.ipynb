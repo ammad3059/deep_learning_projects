{
  "nbformat": 4,
  "nbformat_minor": 0,
  "metadata": {
    "colab": {
      "name": "imdb_tokenizer",
      "provenance": [],
      "collapsed_sections": [],
      "authorship_tag": "ABX9TyODq55wnwB0msRbpZZUnff9",
      "include_colab_link": true
    },
    "kernelspec": {
      "name": "python3",
      "display_name": "Python 3"
    }
  },
  "cells": [
    {
      "cell_type": "markdown",
      "metadata": {
        "id": "view-in-github",
        "colab_type": "text"
      },
      "source": [
        "<a href=\"https://colab.research.google.com/github/ammad3059/deep_learning_projects/blob/main/imdb_tokenizer.ipynb\" target=\"_parent\"><img src=\"https://colab.research.google.com/assets/colab-badge.svg\" alt=\"Open In Colab\"/></a>"
      ]
    },
    {
      "cell_type": "code",
      "metadata": {
        "id": "DIf6NUQKr8zA",
        "outputId": "96d39653-9e18-4084-9f03-b449e35fb8a1",
        "colab": {
          "base_uri": "https://localhost:8080/"
        }
      },
      "source": [
        "import tensorflow as tf\n",
        "print(tf.__version__)"
      ],
      "execution_count": 24,
      "outputs": [
        {
          "output_type": "stream",
          "text": [
            "2.3.0\n"
          ],
          "name": "stdout"
        }
      ]
    },
    {
      "cell_type": "code",
      "metadata": {
        "id": "ojtABvJZsDru"
      },
      "source": [
        "import tensorflow_datasets as tfds\n",
        "imdb , info = tfds.load('imdb_reviews',with_info=True,as_supervised=True)"
      ],
      "execution_count": 25,
      "outputs": []
    },
    {
      "cell_type": "code",
      "metadata": {
        "id": "ZufJzUQfsRhi"
      },
      "source": [
        "train_data,test_data = imdb['train'],imdb['test']"
      ],
      "execution_count": 26,
      "outputs": []
    },
    {
      "cell_type": "code",
      "metadata": {
        "id": "MQROBUnGswsZ"
      },
      "source": [
        "import numpy as np\n",
        "train_sentences=[]\n",
        "train_labels=[]\n",
        "test_sentences=[]\n",
        "test_labels=[]\n",
        "\n",
        "for s,l in train_data:\n",
        "  train_sentences.append(str(s.numpy()))\n",
        "  train_labels.append(l.numpy())\n",
        "\n",
        "for s,l in test_data:\n",
        "  test_sentences.append(str(s.numpy()))\n",
        "  test_labels.append(l.numpy())\n",
        "\n",
        "final_train_labels=np.array(train_labels)\n",
        "final_test_labels=np.array(test_labels)"
      ],
      "execution_count": 27,
      "outputs": []
    },
    {
      "cell_type": "code",
      "metadata": {
        "id": "YMNRjmMhs9GE",
        "outputId": "5310d038-26e3-4e6d-f5e0-ce16d985b4e0",
        "colab": {
          "base_uri": "https://localhost:8080/"
        }
      },
      "source": [
        "print(train_sentences[1],type(train_sentences))\n",
        "print(train_labels[1])"
      ],
      "execution_count": 28,
      "outputs": [
        {
          "output_type": "stream",
          "text": [
            "b'I have been known to fall asleep during films, but this is usually due to a combination of things including, really tired, being warm and comfortable on the sette and having just eaten a lot. However on this occasion I fell asleep because the film was rubbish. The plot development was constant. Constantly slow and boring. Things seemed to happen, but with no explanation of what was causing them or why. I admit, I may have missed part of the film, but i watched the majority of it and everything just seemed to happen of its own accord without any real concern for anything else. I cant recommend this film at all.' <class 'list'>\n",
            "0\n"
          ],
          "name": "stdout"
        }
      ]
    },
    {
      "cell_type": "code",
      "metadata": {
        "id": "afyL0ZMttXr5"
      },
      "source": [
        "from tensorflow.keras.preprocessing.text import Tokenizer\n",
        "from tensorflow.keras.preprocessing.sequence import pad_sequences\n",
        "vocab_size=10000\n",
        "oov_token='##'\n",
        "max_length=150\n",
        "embed_dim=16\n",
        "\n",
        "tokenizer = Tokenizer(num_words=vocab_size,oov_token=oov_token)"
      ],
      "execution_count": 29,
      "outputs": []
    },
    {
      "cell_type": "code",
      "metadata": {
        "id": "UdkCrm7x0MRZ",
        "outputId": "516f19b4-eb97-4880-93e6-1cd3742e40e2",
        "colab": {
          "base_uri": "https://localhost:8080/"
        }
      },
      "source": [
        "tokenizer.fit_on_texts(train_sentences)\n",
        "indexes = tokenizer.word_index\n",
        "\n",
        "seq = tokenizer.texts_to_sequences(train_sentences)\n",
        "pad = pad_sequences(seq,maxlen=max_length,padding='post',truncating='post')\n",
        "print(train_sentences[4])\n",
        "print(seq[4])\n",
        "print(pad[4])"
      ],
      "execution_count": 31,
      "outputs": [
        {
          "output_type": "stream",
          "text": [
            "b'As others have mentioned, all the women that go nude in this film are mostly absolutely gorgeous. The plot very ably shows the hypocrisy of the female libido. When men are around they want to be pursued, but when no \"men\" are around, they become the pursuers of a 14 year old boy. And the boy becomes a man really fast (we should all be so lucky at this age!). He then gets up the courage to pursue his true love.'\n",
            "[3049, 414, 28, 1058, 31, 2, 370, 13, 141, 2541, 9, 12, 20, 25, 677, 439, 1517, 2, 115, 54, 1, 287, 2, 1, 5, 2, 674, 1, 55, 347, 25, 187, 34, 182, 6, 29, 7038, 19, 55, 61, 347, 25, 187, 34, 421, 2, 1, 5, 4, 2436, 281, 154, 430, 3, 2, 430, 469, 4, 129, 68, 713, 75, 144, 31, 29, 37, 2071, 32, 12, 568, 27, 95, 212, 57, 2, 3184, 6, 6665, 26, 284, 119, 47]\n",
            "[3049  414   28 1058   31    2  370   13  141 2541    9   12   20   25\n",
            "  677  439 1517    2  115   54    1  287    2    1    5    2  674    1\n",
            "   55  347   25  187   34  182    6   29 7038   19   55   61  347   25\n",
            "  187   34  421    2    1    5    4 2436  281  154  430    3    2  430\n",
            "  469    4  129   68  713   75  144   31   29   37 2071   32   12  568\n",
            "   27   95  212   57    2 3184    6 6665   26  284  119   47    0    0\n",
            "    0    0    0    0    0    0    0    0    0    0    0    0    0    0\n",
            "    0    0    0    0    0    0    0    0    0    0    0    0    0    0\n",
            "    0    0    0    0    0    0    0    0    0    0    0    0    0    0\n",
            "    0    0    0    0    0    0    0    0    0    0    0    0    0    0\n",
            "    0    0    0    0    0    0    0    0    0    0]\n"
          ],
          "name": "stdout"
        }
      ]
    },
    {
      "cell_type": "code",
      "metadata": {
        "id": "1hJ7IRQc01yS"
      },
      "source": [
        "test_seq = tokenizer.texts_to_sequences(test_sentences)\n",
        "test_pad = pad_sequences(test_seq,maxlen=max_length,padding='post',truncating='post')"
      ],
      "execution_count": 32,
      "outputs": []
    },
    {
      "cell_type": "code",
      "metadata": {
        "id": "8YeWGBdv11Ji"
      },
      "source": [
        "from tensorflow.keras import models,layers"
      ],
      "execution_count": 33,
      "outputs": []
    },
    {
      "cell_type": "code",
      "metadata": {
        "id": "k5E7MmCP1-vs"
      },
      "source": [
        "model=models.Sequential()\n",
        "model.add(layers.Embedding(input_dim=vocab_size,output_dim=embed_dim,input_length=max_length))\n",
        "model.add(layers.Flatten())\n",
        "model.add(layers.Dense(10,activation='relu'))\n",
        "model.add(layers.Dense(1,activation='sigmoid'))\n",
        "\n",
        "model.compile(loss='binary_crossentropy',optimizer='adam',metrics=['acc'])"
      ],
      "execution_count": 34,
      "outputs": []
    },
    {
      "cell_type": "code",
      "metadata": {
        "id": "MExZ-WP62mKs",
        "outputId": "023670b7-4d9f-4fdb-9e90-86e2dd0f48af",
        "colab": {
          "base_uri": "https://localhost:8080/"
        }
      },
      "source": [
        "model.fit(pad,final_train_labels,epochs=8,validation_data=(test_pad,final_test_labels))"
      ],
      "execution_count": 35,
      "outputs": [
        {
          "output_type": "stream",
          "text": [
            "Epoch 1/8\n",
            "782/782 [==============================] - 4s 5ms/step - loss: 0.4637 - acc: 0.7615 - val_loss: 0.3590 - val_acc: 0.8422\n",
            "Epoch 2/8\n",
            "782/782 [==============================] - 4s 5ms/step - loss: 0.2039 - acc: 0.9231 - val_loss: 0.4144 - val_acc: 0.8234\n",
            "Epoch 3/8\n",
            "782/782 [==============================] - 4s 5ms/step - loss: 0.0595 - acc: 0.9873 - val_loss: 0.5159 - val_acc: 0.8188\n",
            "Epoch 4/8\n",
            "782/782 [==============================] - 4s 5ms/step - loss: 0.0124 - acc: 0.9988 - val_loss: 0.5999 - val_acc: 0.8185\n",
            "Epoch 5/8\n",
            "782/782 [==============================] - 4s 5ms/step - loss: 0.0028 - acc: 0.9999 - val_loss: 0.6679 - val_acc: 0.8213\n",
            "Epoch 6/8\n",
            "782/782 [==============================] - 4s 5ms/step - loss: 0.0010 - acc: 1.0000 - val_loss: 0.7218 - val_acc: 0.8219\n",
            "Epoch 7/8\n",
            "782/782 [==============================] - 4s 5ms/step - loss: 5.2304e-04 - acc: 1.0000 - val_loss: 0.7645 - val_acc: 0.8236\n",
            "Epoch 8/8\n",
            "782/782 [==============================] - 4s 5ms/step - loss: 2.8764e-04 - acc: 1.0000 - val_loss: 0.8068 - val_acc: 0.8230\n"
          ],
          "name": "stdout"
        },
        {
          "output_type": "execute_result",
          "data": {
            "text/plain": [
              "<tensorflow.python.keras.callbacks.History at 0x7f55f2731e80>"
            ]
          },
          "metadata": {
            "tags": []
          },
          "execution_count": 35
        }
      ]
    },
    {
      "cell_type": "code",
      "metadata": {
        "id": "tpiqBl9C28o2"
      },
      "source": [
        ""
      ],
      "execution_count": null,
      "outputs": []
    }
  ]
}